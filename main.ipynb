{
 "cells": [
  {
   "cell_type": "code",
   "execution_count": 1,
   "metadata": {},
   "outputs": [
    {
     "name": "stdout",
     "output_type": "stream",
     "text": [
      "Downloading http://yann.lecun.com/exdb/mnist/train-images-idx3-ubyte.gz\n",
      "Downloading http://yann.lecun.com/exdb/mnist/train-images-idx3-ubyte.gz to ./data/MNIST/raw/train-images-idx3-ubyte.gz\n"
     ]
    },
    {
     "name": "stderr",
     "output_type": "stream",
     "text": [
      "100%|██████████| 9912422/9912422 [00:00<00:00, 20800117.29it/s]\n"
     ]
    },
    {
     "name": "stdout",
     "output_type": "stream",
     "text": [
      "Extracting ./data/MNIST/raw/train-images-idx3-ubyte.gz to ./data/MNIST/raw\n",
      "\n",
      "Downloading http://yann.lecun.com/exdb/mnist/train-labels-idx1-ubyte.gz\n",
      "Downloading http://yann.lecun.com/exdb/mnist/train-labels-idx1-ubyte.gz to ./data/MNIST/raw/train-labels-idx1-ubyte.gz\n"
     ]
    },
    {
     "name": "stderr",
     "output_type": "stream",
     "text": [
      "100%|██████████| 28881/28881 [00:00<00:00, 29902664.48it/s]"
     ]
    },
    {
     "name": "stdout",
     "output_type": "stream",
     "text": [
      "Extracting ./data/MNIST/raw/train-labels-idx1-ubyte.gz to ./data/MNIST/raw\n",
      "\n",
      "Downloading http://yann.lecun.com/exdb/mnist/t10k-images-idx3-ubyte.gz\n",
      "Downloading http://yann.lecun.com/exdb/mnist/t10k-images-idx3-ubyte.gz to ./data/MNIST/raw/t10k-images-idx3-ubyte.gz\n"
     ]
    },
    {
     "name": "stderr",
     "output_type": "stream",
     "text": [
      "\n",
      "100%|██████████| 1648877/1648877 [00:00<00:00, 15942727.45it/s]\n"
     ]
    },
    {
     "name": "stdout",
     "output_type": "stream",
     "text": [
      "Extracting ./data/MNIST/raw/t10k-images-idx3-ubyte.gz to ./data/MNIST/raw\n",
      "\n",
      "Downloading http://yann.lecun.com/exdb/mnist/t10k-labels-idx1-ubyte.gz\n",
      "Downloading http://yann.lecun.com/exdb/mnist/t10k-labels-idx1-ubyte.gz to ./data/MNIST/raw/t10k-labels-idx1-ubyte.gz\n"
     ]
    },
    {
     "name": "stderr",
     "output_type": "stream",
     "text": [
      "100%|██████████| 4542/4542 [00:00<00:00, 13976910.32it/s]"
     ]
    },
    {
     "name": "stdout",
     "output_type": "stream",
     "text": [
      "Extracting ./data/MNIST/raw/t10k-labels-idx1-ubyte.gz to ./data/MNIST/raw\n",
      "\n"
     ]
    },
    {
     "name": "stderr",
     "output_type": "stream",
     "text": [
      "\n"
     ]
    },
    {
     "data": {
      "text/plain": [
       "False"
      ]
     },
     "execution_count": 1,
     "metadata": {},
     "output_type": "execute_result"
    }
   ],
   "source": [
    "import torch\n",
    "import torch.nn as nn\n",
    "import torch.nn.functional as functional\n",
    "import torch.optim as optim\n",
    "import torch.utils.data as data\n",
    "import torch.utils.data.sampler as sampler\n",
    "import torchvision.datasets as datasets\n",
    "import torchvision.transforms as transforms\n",
    "import matplotlib.pyplot as plt\n",
    "\n",
    "import data_loader\n",
    "\n",
    "batch_size = 100\n",
    "lr = .001\n",
    "dim_image = 28**2\n",
    "dim_hidden = 400\n",
    "dim_latent = 200\n",
    "train_loader, validation_loader, test_loader = data_loader.load_mnist(batch_size=batch_size)\n",
    "\n",
    "torch.cuda.is_available()"
   ]
  },
  {
   "cell_type": "code",
   "execution_count": 15,
   "metadata": {},
   "outputs": [
    {
     "name": "stdout",
     "output_type": "stream",
     "text": [
      "torch.Size([4, 2, 3])\n"
     ]
    },
    {
     "data": {
      "text/plain": [
       "torch.Size([4, 1, 3])"
      ]
     },
     "execution_count": 15,
     "metadata": {},
     "output_type": "execute_result"
    }
   ],
   "source": [
    "import torch\n",
    "\n",
    "tensor = torch.tensor([\n",
    "  [\n",
    "    [1, 2, 3],\n",
    "    [4, 5, 6]\n",
    "  ],\n",
    "  [\n",
    "    [7,8,9],\n",
    "    [10,11,12]\n",
    "  ],\n",
    "  [\n",
    "    [1, 2, 3],\n",
    "    [4, 5, 6]\n",
    "  ],\n",
    "  [\n",
    "    [7,8,9],\n",
    "    [10,11,12]\n",
    "  ]\n",
    "])\n",
    "print(tensor.shape)\n",
    "tensor.sum(dim=1, keepdim=True).shape"
   ]
  },
  {
   "cell_type": "code",
   "execution_count": 53,
   "metadata": {},
   "outputs": [
    {
     "name": "stdout",
     "output_type": "stream",
     "text": [
      "torch.Size([4, 2, 3])\n",
      "tensor([[0, 0, 0],\n",
      "        [0, 0, 0],\n",
      "        [0, 0, 0],\n",
      "        [0, 0, 0]])\n",
      "torch.Size([4, 3])\n",
      "torch.Size([4, 1, 3])\n"
     ]
    }
   ],
   "source": [
    "import torch\n",
    "\n",
    "tensor = torch.tensor([\n",
    "  [\n",
    "    [1, 2, 3],\n",
    "    [4, 5, 6]\n",
    "  ],\n",
    "  [\n",
    "    [7,8,9],\n",
    "    [10,11,12]\n",
    "  ],\n",
    "  [\n",
    "    [1, 2, 3],\n",
    "    [4, 5, 6]\n",
    "  ],\n",
    "  [\n",
    "    [7,8,9],\n",
    "    [10,11,12]\n",
    "  ]\n",
    "])\n",
    "print(tensor.shape)\n",
    "print(tensor.argmin(dim=1).shape)\n",
    "print(tensor.argmin(dim=1).unsqueeze(1).shape)"
   ]
  },
  {
   "cell_type": "code",
   "execution_count": 17,
   "metadata": {},
   "outputs": [
    {
     "name": "stdout",
     "output_type": "stream",
     "text": [
      "torch.Size([2, 1])\n",
      "torch.Size([2, 2])\n"
     ]
    },
    {
     "data": {
      "text/plain": [
       "tensor([[ 0., -1.],\n",
       "        [-1., -2.]])"
      ]
     },
     "execution_count": 17,
     "metadata": {},
     "output_type": "execute_result"
    }
   ],
   "source": [
    "tensor1 = torch.Tensor([[1],[2]])\n",
    "print(tensor1.shape)\n",
    "tensor2 = torch.Tensor([[1,2],[3,4]])\n",
    "print(tensor2.shape)\n",
    "tensor1 - tensor2"
   ]
  },
  {
   "cell_type": "code",
   "execution_count": 50,
   "metadata": {},
   "outputs": [
    {
     "name": "stdout",
     "output_type": "stream",
     "text": [
      "torch.Size([1])\n"
     ]
    },
    {
     "data": {
      "text/plain": [
       "torch.Size([1, 1])"
      ]
     },
     "execution_count": 50,
     "metadata": {},
     "output_type": "execute_result"
    }
   ],
   "source": [
    "tensor = torch.tensor([\n",
    "1\n",
    "])\n",
    "print(tensor.shape)\n",
    "tensor.unsqueeze(1).shape"
   ]
  },
  {
   "cell_type": "code",
   "execution_count": 130,
   "metadata": {},
   "outputs": [
    {
     "data": {
      "image/png": "[encoded data removed]",
      "text/plain": [
       "<Figure size 300x300 with 1 Axes>"
      ]
     },
     "metadata": {},
     "output_type": "display_data"
    }
   ],
   "source": [
    "import matplotlib.pyplot as plt\n",
    "\n",
    "plt.figure(figsize=(3, 3))\n",
    "plt.title(f\"{train_loader.dataset[0][1]}\")\n",
    "plt.imshow(train_loader.dataset[0][0][0])\n",
    "plt.show()"
   ]
  },
  {
   "cell_type": "code",
   "execution_count": 131,
   "metadata": {},
   "outputs": [],
   "source": [
    "class Encoder(nn.Module): # Gaussian MLP\n",
    "  def __init__(self, dim_input, dim_hidden, dim_output):\n",
    "    super(Encoder, self).__init__()\n",
    "    self.L1 = nn.Linear(dim_input, dim_hidden)\n",
    "    self.L_mu = nn.Linear(dim_hidden, dim_output)\n",
    "    self.L_sig = nn.Linear(dim_hidden, dim_output)\n",
    "    \n",
    "  def forward(self, x):\n",
    "    _h = self.L1(x)\n",
    "    _h = functional.tanh(_h)\n",
    "    mu = self.L_mu(_h)\n",
    "    log_var = self.L_sig(_h)\n",
    "    return mu, log_var"
   ]
  },
  {
   "cell_type": "code",
   "execution_count": 132,
   "metadata": {},
   "outputs": [],
   "source": [
    "class Decoder(nn.Module): # Bernoulli MLP\n",
    "  def __init__(self, dim_input, dim_hidden, dim_output):\n",
    "    super(Decoder, self).__init__()\n",
    "    self.L1 = nn.Linear(dim_input, dim_hidden)\n",
    "    self.L2 = nn.Linear(dim_hidden, dim_output)\n",
    "    \n",
    "  def forward(self, z):\n",
    "    _h = self.L1(z)\n",
    "    _h = self.L2(functional.tanh(_h))\n",
    "    return functional.sigmoid(_h)"
   ]
  },
  {
   "cell_type": "code",
   "execution_count": 133,
   "metadata": {},
   "outputs": [],
   "source": [
    "class Model(nn.Module):\n",
    "  def __init__(self, encoder: Encoder, decoder: Decoder):\n",
    "    super(Model, self).__init__()\n",
    "    self.Encoder = encoder\n",
    "    self.Decoder = decoder\n",
    "  \n",
    "  @staticmethod\n",
    "  def reparameterization(mu, sig_sqrd):\n",
    "    epsilon = torch.randn_like(sig_sqrd)\n",
    "    return mu + sig_sqrd * epsilon\n",
    "  \n",
    "  def forward(self, x):\n",
    "    mu, log_var = self.Encoder(x)\n",
    "    z = self.reparameterization(mu, torch.exp(1/2 * log_var))\n",
    "    return self.Decoder(z), mu, log_var\n",
    "    "
   ]
  },
  {
   "cell_type": "code",
   "execution_count": 134,
   "metadata": {},
   "outputs": [
    {
     "name": "stdout",
     "output_type": "stream",
     "text": [
      "Model(\n",
      "  (Encoder): Encoder(\n",
      "    (L1): Linear(in_features=784, out_features=400, bias=True)\n",
      "    (L_mu): Linear(in_features=400, out_features=200, bias=True)\n",
      "    (L_sig): Linear(in_features=400, out_features=200, bias=True)\n",
      "  )\n",
      "  (Decoder): Decoder(\n",
      "    (L1): Linear(in_features=200, out_features=400, bias=True)\n",
      "    (L2): Linear(in_features=400, out_features=784, bias=True)\n",
      "  )\n",
      ")\n"
     ]
    }
   ],
   "source": [
    "encoder = Encoder(dim_image, dim_hidden, dim_latent)\n",
    "decoder = Decoder(dim_latent, dim_hidden, dim_image)\n",
    "model = Model(encoder, decoder)\n",
    "\n",
    "print(model)"
   ]
  },
  {
   "cell_type": "code",
   "execution_count": 135,
   "metadata": {},
   "outputs": [],
   "source": [
    "def elbo_loss(x, x_hat, mu, log_var):\n",
    "  kl_div = - 1/2 * torch.sum(1 + log_var - torch.pow(mu, 2) - torch.exp(log_var))\n",
    "  reconx_los = functional.binary_cross_entropy(x_hat, x, reduction='sum')\n",
    "  return reconx_los + kl_div"
   ]
  },
  {
   "cell_type": "code",
   "execution_count": 136,
   "metadata": {},
   "outputs": [
    {
     "name": "stdout",
     "output_type": "stream",
     "text": [
      "epoch 0\n",
      "training loss: 18267.773541666666\n",
      "epoch 1\n",
      "training loss: 14295.317200520833\n",
      "epoch 2\n",
      "training loss: 12676.204057617188\n",
      "epoch 3\n",
      "training loss: 11975.347032877604\n",
      "epoch 4\n",
      "training loss: 11633.227942708334\n",
      "epoch 5\n",
      "training loss: 11411.083688151042\n",
      "epoch 6\n",
      "training loss: 11257.744627278646\n",
      "epoch 7\n",
      "training loss: 11143.522491861979\n",
      "epoch 8\n",
      "training loss: 11049.138929036459\n",
      "epoch 9\n",
      "training loss: 10969.217565104167\n",
      "epoch 10\n",
      "training loss: 10900.072845052084\n",
      "epoch 11\n",
      "training loss: 10843.89288248698\n",
      "epoch 12\n",
      "training loss: 10794.30819986979\n",
      "epoch 13\n",
      "training loss: 10752.470257161458\n",
      "epoch 14\n",
      "training loss: 10716.816227213541\n",
      "epoch 15\n",
      "training loss: 10679.728009440105\n",
      "epoch 16\n",
      "training loss: 10655.726821289063\n",
      "epoch 17\n",
      "training loss: 10628.322662760416\n",
      "epoch 18\n",
      "training loss: 10598.911155598958\n",
      "epoch 19\n",
      "training loss: 10581.745428059896\n",
      "epoch 20\n",
      "training loss: 10562.452503255208\n",
      "epoch 21\n",
      "training loss: 10548.906430664063\n",
      "epoch 22\n",
      "training loss: 10534.127373046875\n",
      "epoch 23\n",
      "training loss: 10517.552083333334\n",
      "epoch 24\n",
      "training loss: 10501.076834309895\n",
      "epoch 25\n",
      "training loss: 10496.582596028646\n",
      "epoch 26\n",
      "training loss: 10484.86791015625\n",
      "epoch 27\n",
      "training loss: 10476.613064778647\n",
      "epoch 28\n",
      "training loss: 10462.93018391927\n",
      "epoch 29\n",
      "training loss: 10453.088950195313\n"
     ]
    }
   ],
   "source": [
    "optimizer = optim.Adam(model.parameters(), lr = 0.001)\n",
    "\n",
    "epochs = 30\n",
    "\n",
    "for epoch in range(epochs):\n",
    "    print(f\"epoch {epoch}\")\n",
    "    \n",
    "    total_loss = 0.\n",
    "    \n",
    "    for i, (X, y) in enumerate(train_loader):\n",
    "        model.train()\n",
    "        X = X.view(batch_size, 784)\n",
    "        X_hat, mu, log_var = model(X) # training mode\n",
    "        loss = elbo_loss(X, X_hat, mu, log_var)\n",
    "        total_loss += loss.item()\n",
    "        \n",
    "        loss.backward()\n",
    "        optimizer.step()\n",
    "        optimizer.zero_grad()\n",
    "        \n",
    "    print(f\"training loss: {total_loss / len(train_loader)}\")\n",
    "        "
   ]
  },
  {
   "cell_type": "code",
   "execution_count": 137,
   "metadata": {},
   "outputs": [
    {
     "data": {
      "image/png": "[encoded data removed]",
      "text/plain": [
       "<Figure size 300x300 with 1 Axes>"
      ]
     },
     "metadata": {},
     "output_type": "display_data"
    }
   ],
   "source": [
    "z_test = []\n",
    "with torch.no_grad():\n",
    "  for j, (test_X, test_y) in enumerate(test_loader):\n",
    "    test_X = test_X.view(1, 784)\n",
    "    z, _, _ = model(test_X)\n",
    "    z_test.append((z.view(28, 28), test_y))\n",
    "\n",
    "plt.figure(figsize=(3, 3))\n",
    "plt.title(f\"{z_test[0][1].item()}\")\n",
    "plt.imshow(z_test[0][0])\n",
    "plt.show()"
   ]
  }
 ],
 "metadata": {
  "kernelspec": {
   "display_name": "base",
   "language": "python",
   "name": "python3"
  },
  "language_info": {
   "codemirror_mode": {
    "name": "ipython",
    "version": 3
   },
   "file_extension": ".py",
   "mimetype": "text/x-python",
   "name": "python",
   "nbconvert_exporter": "python",
   "pygments_lexer": "ipython3",
   "version": "3.11.5"
  }
 },
 "nbformat": 4,
 "nbformat_minor": 2
}
