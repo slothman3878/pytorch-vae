{
 "cells": [
  {
   "cell_type": "code",
   "execution_count": 103,
   "metadata": {},
   "outputs": [
    {
     "data": {
      "text/plain": [
       "True"
      ]
     },
     "execution_count": 103,
     "metadata": {},
     "output_type": "execute_result"
    }
   ],
   "source": [
    "import torch\n",
    "import torch.nn as nn\n",
    "import torch.nn.functional as functional\n",
    "import torch.optim as optim\n",
    "import torch.utils.data as data\n",
    "import torch.utils.data.sampler as sampler\n",
    "import torchvision.datasets as datasets\n",
    "import torchvision.transforms as transforms\n",
    "import matplotlib.pyplot as plt\n",
    "\n",
    "import mnist_loader\n",
    "\n",
    "batch_size = 100\n",
    "train_loader, validation_loader, test_loader = mnist_loader.load_data(batch_size=batch_size)\n",
    "\n",
    "torch.cuda.is_available()"
   ]
  },
  {
   "cell_type": "code",
   "execution_count": 104,
   "metadata": {},
   "outputs": [
    {
     "data": {
      "image/png": "[encoded data removed]",
      "text/plain": [
       "<Figure size 300x300 with 1 Axes>"
      ]
     },
     "metadata": {},
     "output_type": "display_data"
    }
   ],
   "source": [
    "import matplotlib.pyplot as plt\n",
    "\n",
    "plt.figure(figsize=(3, 3))\n",
    "plt.title(f\"{train_loader.dataset[0][1]}\")\n",
    "plt.imshow(train_loader.dataset[0][0][0])\n",
    "plt.show()"
   ]
  },
  {
   "cell_type": "code",
   "execution_count": 105,
   "metadata": {},
   "outputs": [],
   "source": [
    "class Encoder(nn.Module): # Gaussian MLP\n",
    "  def __init__(self, dim_input, dim_hidden, dim_output):\n",
    "    super(Encoder, self).__init__()\n",
    "    self.L1 = nn.Linear(dim_input, dim_hidden)\n",
    "    self.L_mu = nn.Linear(dim_hidden, dim_output)\n",
    "    self.L_sig = nn.Linear(dim_hidden, dim_output)\n",
    "    \n",
    "  def forward(self, x):\n",
    "    _h = self.L1(x)\n",
    "    _h = functional.tanh(_h)\n",
    "    mu = self.L_mu(_h)\n",
    "    log_var = self.L_sig(_h)\n",
    "    return mu, log_var"
   ]
  },
  {
   "cell_type": "code",
   "execution_count": 106,
   "metadata": {},
   "outputs": [],
   "source": [
    "class Decoder(nn.Module): # Bernoulli MLP\n",
    "  def __init__(self, dim_input, dim_hidden, dim_output):\n",
    "    super(Decoder, self).__init__()\n",
    "    self.L1 = nn.Linear(dim_input, dim_hidden)\n",
    "    self.L2 = nn.Linear(dim_hidden, dim_output)\n",
    "    \n",
    "  def forward(self, z):\n",
    "    _h = self.L1(z)\n",
    "    _h = self.L2(functional.tanh(_h))\n",
    "    return functional.sigmoid(_h)"
   ]
  },
  {
   "cell_type": "code",
   "execution_count": 107,
   "metadata": {},
   "outputs": [],
   "source": [
    "class Model(nn.Module):\n",
    "  def __init__(self, encoder: Encoder, decoder: Decoder):\n",
    "    super(Model, self).__init__()\n",
    "    self.Encoder = encoder\n",
    "    self.Decoder = decoder\n",
    "  \n",
    "  @staticmethod\n",
    "  def reparameterization(mu, sig_sqrd):\n",
    "    epsilon = torch.randn_like(sig_sqrd)\n",
    "    return mu + sig_sqrd * epsilon\n",
    "  \n",
    "  def forward(self, x):\n",
    "    mu, log_var = self.Encoder(x)\n",
    "    z = self.reparameterization(mu, torch.exp(1/2 * log_var))\n",
    "    return self.Decoder(z), mu, log_var\n",
    "    "
   ]
  },
  {
   "cell_type": "code",
   "execution_count": 108,
   "metadata": {},
   "outputs": [
    {
     "name": "stdout",
     "output_type": "stream",
     "text": [
      "Model(\n",
      "  (Encoder): Encoder(\n",
      "    (L1): Linear(in_features=784, out_features=400, bias=True)\n",
      "    (L_mu): Linear(in_features=400, out_features=200, bias=True)\n",
      "    (L_sig): Linear(in_features=400, out_features=200, bias=True)\n",
      "  )\n",
      "  (Decoder): Decoder(\n",
      "    (L1): Linear(in_features=200, out_features=400, bias=True)\n",
      "    (L2): Linear(in_features=400, out_features=784, bias=True)\n",
      "  )\n",
      ")\n"
     ]
    }
   ],
   "source": [
    "encoder = Encoder(28*28, 400, 200)\n",
    "decoder = Decoder(200, 400, 28*28)\n",
    "model = Model(encoder, decoder)\n",
    "\n",
    "print(model)"
   ]
  },
  {
   "cell_type": "code",
   "execution_count": 109,
   "metadata": {},
   "outputs": [],
   "source": [
    "def elbo_loss(x, x_hat, mu, log_var):\n",
    "  kl_div = - 1/2 * torch.sum(1 + log_var - torch.pow(mu, 2) - torch.exp(log_var))\n",
    "  reproduction_loss = functional.binary_cross_entropy(x_hat, x, reduction='sum')\n",
    "  return reproduction_loss + kl_div"
   ]
  },
  {
   "cell_type": "code",
   "execution_count": 110,
   "metadata": {},
   "outputs": [
    {
     "name": "stdout",
     "output_type": "stream",
     "text": [
      "epoch 0\n",
      "training loss: 18257.88051106771\n",
      "epoch 1\n",
      "training loss: 14252.888872070313\n",
      "epoch 2\n",
      "training loss: 12685.99151529948\n",
      "epoch 3\n",
      "training loss: 12016.94051920573\n",
      "epoch 4\n",
      "training loss: 11633.173577473959\n",
      "epoch 5\n",
      "training loss: 11398.687856445313\n",
      "epoch 6\n",
      "training loss: 11244.517174479166\n",
      "epoch 7\n",
      "training loss: 11126.300600585937\n",
      "epoch 8\n",
      "training loss: 11033.777540690104\n",
      "epoch 9\n",
      "training loss: 10945.958899739584\n",
      "epoch 10\n",
      "training loss: 10881.832662760416\n",
      "epoch 11\n",
      "training loss: 10825.160354817708\n",
      "epoch 12\n",
      "training loss: 10774.910073242187\n",
      "epoch 13\n",
      "training loss: 10738.960291341145\n",
      "epoch 14\n",
      "training loss: 10704.262788085938\n",
      "epoch 15\n",
      "training loss: 10675.34875\n",
      "epoch 16\n",
      "training loss: 10639.232652994791\n",
      "epoch 17\n",
      "training loss: 10623.350460611979\n",
      "epoch 18\n",
      "training loss: 10597.912680664063\n",
      "epoch 19\n",
      "training loss: 10582.796606445312\n",
      "epoch 20\n",
      "training loss: 10570.559611002604\n",
      "epoch 21\n",
      "training loss: 10546.448115234374\n",
      "epoch 22\n",
      "training loss: 10534.267112630208\n",
      "epoch 23\n",
      "training loss: 10525.987919921876\n",
      "epoch 24\n",
      "training loss: 10510.276119791666\n",
      "epoch 25\n",
      "training loss: 10495.983548177084\n",
      "epoch 26\n",
      "training loss: 10491.040681966146\n",
      "epoch 27\n",
      "training loss: 10477.767954101562\n",
      "epoch 28\n",
      "training loss: 10471.069954427083\n",
      "epoch 29\n",
      "training loss: 10463.620642903647\n"
     ]
    }
   ],
   "source": [
    "optimizer = optim.Adam(model.parameters(), lr = 0.001)\n",
    "\n",
    "epochs = 30\n",
    "\n",
    "for epoch in range(epochs):\n",
    "    print(f\"epoch {epoch}\")\n",
    "    \n",
    "    total_loss = 0.\n",
    "    \n",
    "    for i, (X, y) in enumerate(train_loader):\n",
    "        model.train()\n",
    "        X = X.view(batch_size, 784)\n",
    "        X_hat, mu, log_var = model(X) # training mode\n",
    "        loss = elbo_loss(X, X_hat, mu, log_var)\n",
    "        total_loss += loss.item()\n",
    "        \n",
    "        loss.backward()\n",
    "        optimizer.step()\n",
    "        optimizer.zero_grad()\n",
    "        \n",
    "    print(f\"training loss: {total_loss / len(train_loader)}\")\n",
    "        "
   ]
  },
  {
   "cell_type": "code",
   "execution_count": 128,
   "metadata": {},
   "outputs": [
    {
     "data": {
      "image/png": "[encoded data removed]",
      "text/plain": [
       "<Figure size 300x300 with 1 Axes>"
      ]
     },
     "metadata": {},
     "output_type": "display_data"
    }
   ],
   "source": [
    "z_test = []\n",
    "with torch.no_grad():\n",
    "  for j, (test_X, test_y) in enumerate(test_loader):\n",
    "    test_X = test_X.view(1, 784)\n",
    "    z, _, _ = model(test_X)\n",
    "    z_test.append((z.view(28, 28), test_y))\n",
    "\n",
    "plt.figure(figsize=(3, 3))\n",
    "plt.title(f\"{z_test[0][1].item()}\")\n",
    "plt.imshow(z_test[0][0])\n",
    "plt.show()"
   ]
  }
 ],
 "metadata": {
  "kernelspec": {
   "display_name": "base",
   "language": "python",
   "name": "python3"
  },
  "language_info": {
   "codemirror_mode": {
    "name": "ipython",
    "version": 3
   },
   "file_extension": ".py",
   "mimetype": "text/x-python",
   "name": "python",
   "nbconvert_exporter": "python",
   "pygments_lexer": "ipython3",
   "version": "3.11.5"
  }
 },
 "nbformat": 4,
 "nbformat_minor": 2
}
