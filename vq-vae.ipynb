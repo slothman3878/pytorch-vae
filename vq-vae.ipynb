{
 "cells": [
  {
   "cell_type": "markdown",
   "metadata": {},
   "source": [
    "# Vector Quantized Auto-Encoder"
   ]
  },
  {
   "cell_type": "code",
   "execution_count": 1,
   "metadata": {},
   "outputs": [
    {
     "name": "stdout",
     "output_type": "stream",
     "text": [
      "Files already downloaded and verified\n"
     ]
    },
    {
     "data": {
      "text/plain": [
       "True"
      ]
     },
     "execution_count": 1,
     "metadata": {},
     "output_type": "execute_result"
    }
   ],
   "source": [
    "import torch\n",
    "import torch.nn as nn\n",
    "import torch.nn.functional as functional\n",
    "import torch.optim as optim\n",
    "import torch.utils.data as data\n",
    "import torch.utils.data.sampler as sampler\n",
    "import torchvision.datasets as datasets\n",
    "import torchvision.transforms as transforms\n",
    "import matplotlib.pyplot as plt\n",
    "\n",
    "import data_loader\n",
    "\n",
    "batch_size = 128\n",
    "lr = .001\n",
    "\n",
    "dim_input = (3, 32, 32)\n",
    "dim_hidden = 400\n",
    "dim_latent = 200\n",
    "beta_commitment = 0.25\n",
    "\n",
    "train_loader, validation_loader, test_loader = data_loader.load_cifar10(batch_size=batch_size)\n",
    "\n",
    "torch.cuda.is_available()"
   ]
  },
  {
   "cell_type": "code",
   "execution_count": 17,
   "metadata": {},
   "outputs": [
    {
     "name": "stdout",
     "output_type": "stream",
     "text": [
      "torch.Size([3, 32, 32])\n"
     ]
    },
    {
     "data": {
      "image/png": "[encoded data removed]",
      "text/plain": [
       "<Figure size 300x300 with 1 Axes>"
      ]
     },
     "metadata": {},
     "output_type": "display_data"
    }
   ],
   "source": [
    "import matplotlib.pyplot as plt\n",
    "\n",
    "print(train_loader.dataset[4][0].shape)\n",
    "\n",
    "plt.figure(figsize=(3, 3))\n",
    "plt.title(f\"{train_loader.dataset[4][1]}\")\n",
    "plt.imshow(train_loader.dataset[4][0][0])\n",
    "plt.show()"
   ]
  },
  {
   "cell_type": "code",
   "execution_count": null,
   "metadata": {},
   "outputs": [],
   "source": [
    "class VectorQuantizer(nn.Module):\n",
    "  def __init__(self, num_embeddings, embedding_dim, commitment_cost):\n",
    "    super(VectorQuantizer, self).__init__()\n",
    "    \n",
    "    self.num_embeddings = num_embeddings\n",
    "    self.embedding_dim = embedding_dim\n",
    "    self.embedding = nn.Embedding(num_embeddings=num_embeddings, embedding_dim=embedding_dim)\n",
    "    # initialize weights of imbedding from uniform distribution\n",
    "    self.embedding.weight.data.uniform_(-1/self.num_embeddings, 1/self.num_embeddings)\n",
    "    self.commitment_cost = commitment_cost\n",
    "    \n",
    "  def forward(self, inputs):\n",
    "    inputs = inputs.permute(0,2,3,1).contiguous()\n",
    "    input_shape = inputs.shape\n",
    "    \n",
    "    flat_input = inputs.view(-1, self.embedding_dim)\n",
    "    \n",
    "    # distance between choice of embeddings and input\n",
    "    distances = (torch.sum(flat_input**2, dim=1, keepdim=True)\n",
    "                 + torch.sum(self.embedding.weight**2, dim=1)\n",
    "                 - 2 *torch.matmul(flat_input, self.embedding.weight.t()))\n",
    "    \n",
    "    # encoding to index of closest embeddings to input\n",
    "    encoding_indices = torch.argmin(distances, dim=1).unsqueeze(1)\n",
    "    encodings = torch.zeros(encoding_indices.shape[0], self.num_embeddings)\n",
    "    encodings.scatter(1, encoding_indices, 1)\n",
    "    \n",
    "    quantized = torch.matmul(encodings, self.embedding.weight).view(input_shape)\n",
    "    \n",
    "    e_latent_loss = functional.mse_loss(quantized.detach(), inputs)\n",
    "    q_latent_loss = functional.mse_loss(quantized, inputs.detach())\n",
    "    loss = q_latent_loss + self.commitment_cost * e_latent_loss\n",
    "    \n",
    "    quantized = inputs + (quantized - inputs).detach()\n",
    "    avg_probs = torch.mean(encodings, dim=0)\n",
    "    perplexity = torch.exp(-torch.sum(avg_probs * torch.log(avg_probs + 1e-10)))\n",
    "    \n",
    "    return loss, quantized.permute(0, 3, 1, 2).continguous(), perplexity, encodings"
   ]
  }
 ],
 "metadata": {
  "kernelspec": {
   "display_name": "base",
   "language": "python",
   "name": "python3"
  },
  "language_info": {
   "codemirror_mode": {
    "name": "ipython",
    "version": 3
   },
   "file_extension": ".py",
   "mimetype": "text/x-python",
   "name": "python",
   "nbconvert_exporter": "python",
   "pygments_lexer": "ipython3",
   "version": "3.11.5"
  }
 },
 "nbformat": 4,
 "nbformat_minor": 2
}
